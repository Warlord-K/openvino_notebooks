{
 "cells": [
  {
   "attachments": {},
   "cell_type": "markdown",
   "metadata": {},
   "source": [
    "# PersonaGPT Conversation with OpenVINO\n",
    "\n",
    "This notebook shows Conversational Models with OpenVINO. We use the [PersonaGPT](https://arxiv.org/abs/2110.12949v1) model, which an open-domain conversational agent cpable of decoding _personalized_ and _controlled_ responses based on user input. It is built on the pretrained [DialoGPT-medium](https://github.com/microsoft/DialoGPT) model, following the [GPT-2](https://github.com/openai/gpt-2) architecture. \n",
    "PersonaGPT is fine-tuned on the [Persona-Chat](https://arxiv.org/pdf/1801.07243) dataset. The model is available from [HuggingFace](https://huggingface.co/af1tang/personaGPT). PersonaGPT displays a broad set of capabilities, including the ability to take on personas, where we prime the model with few facts and have it generate based upon that, it can also be used for creating a chatbot on a knowledge base.\n",
    "\n",
    "The following image illustrates complete demo pipeline used for this scenario:\n",
    "\n",
    "![image2](https://user-images.githubusercontent.com/95569637/226101538-e204aebd-a34f-4c8b-b90c-5363ba41c080.jpeg)\n",
    "\n",
    "User Input is tokenized with eos_token concatenated in the end. Model input is tokenized text, which serves as initial condition for generation, then logits from model inference result should be obtained and token with the highest probability is selected using top-k sampling strategy and joined to input sequence. The procedure repeats until end of sequence token will be recived or specified maximum length is reached. After that, decoding token ids to text using tokenized should be applied.\n",
    "\n",
    "The Generated response is added to the history with the eos_token at the end. Further User Input is added to it and agin passed into the model."
   ]
  },
  {
   "attachments": {},
   "cell_type": "markdown",
   "metadata": {},
   "source": [
    "## The Model\n"
   ]
  },
  {
   "cell_type": "code",
   "execution_count": 96,
   "metadata": {},
   "outputs": [],
   "source": [
    "from transformers import GPT2LMHeadModel, GPT2Tokenizer\n",
    "\n",
    "pt_model = GPT2LMHeadModel.from_pretrained('af1tang/personaGPT')\n",
    "tokenizer = GPT2Tokenizer.from_pretrained('af1tang/personaGPT')"
   ]
  },
  {
   "attachments": {},
   "cell_type": "markdown",
   "metadata": {},
   "source": [
    "## Convert PersonaGPT to OpenVINO IR\n",
    "\n",
    "![conversion_pipeline](https://user-images.githubusercontent.com/29454499/211261803-784d4791-15cb-4aea-8795-0969dfbb8291.png)\n",
    "\n",
    "For starting work with GPT-Neo model using OpenVINO, model should be converted to OpenVINO Intermediate Represenation (IR) format. HuggingFace provided gpt-neo model is PyTorch model, which supported in OpenVINO via conversion to ONNX. We will use HuggingFace transformers library capabilities for export model to ONNX. `transformers.onnx.export` accept preprocessing function for input sample generation (tokenizer in our case), instance of model, ONNX export configuration, ONNX opset version for export and output path. More information about transformers export to ONNX can be found in HuggingFace [documentation](https://huggingface.co/docs/transformers/serialization).\n",
    "\n",
    "While ONNX models are directly supported by OpenVINO runtime, it can be useful to convert them to IR format to take advantage of OpenVINO optimization tools and features.\n",
    "`mo.convert_model` python function can be used for converting model using [OpenVINO Model Optimizer](https://docs.openvino.ai/latest/openvino_docs_MO_DG_Python_API.html). The function returns instance of OpenVINO Model class, which is ready to use in Python interface but can also be serialized to OpenVINO IR format for future execution using `openvino.runtime.serialize`. In our case, `compress_to_fp16` parameter is enabled for compression model weights to fp16 precision and also specified dynamic input shapes with possible shape range (from 1 token to maximum length defined in our processing function) for optimization of memory consumption."
   ]
  },
  {
   "cell_type": "code",
   "execution_count": 91,
   "metadata": {},
   "outputs": [
    {
     "name": "stderr",
     "output_type": "stream",
     "text": [
      "c:\\Users\\Asus\\miniconda3\\envs\\deep\\lib\\site-packages\\transformers\\models\\gpt2\\modeling_gpt2.py:794: TracerWarning: Converting a tensor to a Python boolean might cause the trace to be incorrect. We can't record the data flow of Python values, so this value will be treated as a constant in the future. This means that the trace might not generalize to other inputs!\n",
      "  if batch_size <= 0:\n"
     ]
    }
   ],
   "source": [
    "from pathlib import Path\n",
    "from openvino.runtime import serialize\n",
    "from openvino.tools import mo\n",
    "from transformers.onnx import export, FeaturesManager\n",
    "\n",
    "\n",
    "# define path for saving onnx model\n",
    "onnx_path = Path(\"model/personaGPT.onnx\")\n",
    "onnx_path.parent.mkdir(exist_ok=True)\n",
    "\n",
    "# define path for saving openvino model\n",
    "model_path = onnx_path.with_suffix(\".xml\")\n",
    "\n",
    "# get model onnx config function for output feature format casual-lm\n",
    "model_kind, model_onnx_config = FeaturesManager.check_supported_model_or_raise(pt_model, feature='causal-lm')\n",
    "\n",
    "# fill onnx config based on pytorch model config\n",
    "onnx_config = model_onnx_config(pt_model.config)\n",
    "\n",
    "# convert model to onnx\n",
    "onnx_inputs, onnx_outputs = export(preprocessor=tokenizer, model=pt_model, config=onnx_config, opset=onnx_config.default_onnx_opset, output=onnx_path)\n",
    "\n",
    "# convert model to openvino\n",
    "ov_model = mo.convert_model(onnx_path, compress_to_fp16=True, input=\"input_ids[1,1..1000],attention_mask[1,1..1000]\")\n",
    "\n",
    "# serialize openvino model\n",
    "serialize(ov_model, str(model_path))"
   ]
  },
  {
   "attachments": {},
   "cell_type": "markdown",
   "metadata": {},
   "source": [
    "### Load the model\n",
    "\n",
    "We start by building an OpenVINO Core object. Then we read the network architecture and model weights from the .xml and .bin files, respectively. Finally, we compile the model for the desired device. Because we use the dynamic shapes feature, which is only available on CPU, we must use `CPU` for the device. Dynamic shapes support on GPU is coming soon.\n",
    "\n",
    "Since the text recognition model has a dynamic input shape, you cannot directly switch device to `GPU` for inference on integrated or discrete Intel GPUs. In order to run inference on iGPU or dGPU with this model, you will need to resize the inputs to this model to use a fixed size and then try running the inference on `GPU` device."
   ]
  },
  {
   "cell_type": "code",
   "execution_count": 92,
   "metadata": {},
   "outputs": [],
   "source": [
    "from openvino.runtime import Core\n",
    "\n",
    "# initialize openvino core\n",
    "core = Core()\n",
    "\n",
    "# read the model and corresponding weights from file\n",
    "model = core.read_model(model_path)\n",
    "\n",
    "# compile the model for CPU devices\n",
    "compiled_model = core.compile_model(model=model, device_name=\"CPU\")\n",
    "\n",
    "# get output tensors\n",
    "output_key = compiled_model.output(0)"
   ]
  },
  {
   "cell_type": "markdown",
   "metadata": {},
   "source": [
    "Input keys are the names of the input nodes and output keys contain names of the output nodes of the network. In the case of GPT-2, we have `batch size` and `sequence length` as inputs and `batch size`, `sequence length` and `vocab size` as outputs."
   ]
  },
  {
   "cell_type": "markdown",
   "metadata": {},
   "source": [
    "## Pre-Processing\n",
    "\n",
    "NLP models often take a list of tokens as a standard input. A token is a single word mapped to an integer. To provide the proper input, we use a vocabulary file to handle the mapping. So first let's load the vocabulary file."
   ]
  },
  {
   "cell_type": "markdown",
   "metadata": {},
   "source": [
    "## Define tokenization"
   ]
  },
  {
   "cell_type": "code",
   "execution_count": 5,
   "metadata": {},
   "outputs": [],
   "source": [
    "from typing import List, Tuple\n",
    "\n",
    "\n",
    "# this function converts text to tokens\n",
    "def tokenize(text: str) -> Tuple[List[int], List[int]]:\n",
    "    \"\"\"\n",
    "    tokenize input text using GPT2 tokenizer\n",
    "\n",
    "    Parameters:\n",
    "      text, str - input text\n",
    "    Returns:\n",
    "      input_ids - np.array with input token ids\n",
    "      attention_mask - np.array with 0 in place, where should be padding and 1 for places where original tokens are located, represents attention mask for model\n",
    "    \"\"\"\n",
    "\n",
    "    inputs = tokenizer(text, return_tensors=\"np\")\n",
    "    return inputs[\"input_ids\"], inputs[\"attention_mask\"]"
   ]
  },
  {
   "cell_type": "markdown",
   "metadata": {},
   "source": [
    "`eos_token` is special token, which means that generation is finished. We store the index of this token in order to use this index as padding at later stage."
   ]
  },
  {
   "cell_type": "code",
   "execution_count": 6,
   "metadata": {},
   "outputs": [],
   "source": [
    "eos_token_id = tokenizer.eos_token_id\n",
    "eos_token = tokenizer.decode(eos_token_id)"
   ]
  },
  {
   "cell_type": "markdown",
   "metadata": {},
   "source": [
    "### Define Softmax layer\n",
    "A softmax function is used to convert top-k logits into a probability distribution. "
   ]
  },
  {
   "cell_type": "code",
   "execution_count": 7,
   "metadata": {},
   "outputs": [],
   "source": [
    "import numpy as np\n",
    "\n",
    "\n",
    "def softmax(x: np.array) -> np.array:\n",
    "    \"\"\"\n",
    "    Computes the Softmax\n",
    "    \"\"\"\n",
    "    e_x = np.exp(x - np.max(x, axis=-1, keepdims=True))\n",
    "    summation = e_x.sum(axis=-1, keepdims=True)\n",
    "    return e_x / summation"
   ]
  },
  {
   "cell_type": "markdown",
   "metadata": {},
   "source": [
    "### Set the minimum sequence length  \n",
    "If the minimum sequence length is not reached, the following code will reduce the probability of the `eos` token occurring. This continues the process of generating the next words."
   ]
  },
  {
   "cell_type": "code",
   "execution_count": 8,
   "metadata": {},
   "outputs": [],
   "source": [
    "def process_logits(cur_length: int, scores: np.array, eos_token_id: int, min_length: int = 0) -> np.array:\n",
    "    \"\"\"\n",
    "    reduce probability for padded indicies\n",
    "\n",
    "    Parameters:\n",
    "      cur_length - current length of input sequence\n",
    "      scores - model output logits\n",
    "      eos_token_id - index of end of string token in model vocab\n",
    "      min_length - minimum length for appling postprocessing\n",
    "    \"\"\"\n",
    "    if cur_length < min_length:\n",
    "        scores[:, eos_token_id] = -float(\"inf\")\n",
    "    return scores"
   ]
  },
  {
   "cell_type": "markdown",
   "metadata": {},
   "source": [
    "### Top-K sampling\n",
    "In Top-K sampling, we filter the K most likely next words and redistribute the probability mass among only those K next words. "
   ]
  },
  {
   "cell_type": "code",
   "execution_count": 9,
   "metadata": {},
   "outputs": [],
   "source": [
    "def get_top_k_logits(scores: np.array, top_k: int) -> np.array:\n",
    "    \"\"\"\n",
    "    perform top-k sampling\n",
    "\n",
    "    Parameters:\n",
    "      scores - model output logits\n",
    "      top_k - number of elements with highest probability to select\n",
    "    \"\"\"\n",
    "    filter_value = -float(\"inf\")\n",
    "    top_k = min(max(top_k, 1), scores.shape[-1])\n",
    "    top_k_scores = -np.sort(-scores)[:, :top_k]\n",
    "    indices_to_remove = scores < np.min(top_k_scores)\n",
    "    filtred_scores = np.ma.array(scores, mask=indices_to_remove,\n",
    "                                 fill_value=filter_value).filled()\n",
    "    return filtred_scores"
   ]
  },
  {
   "cell_type": "markdown",
   "metadata": {},
   "source": [
    "### Main Processing Function\n",
    "Generating the predicted sequence."
   ]
  },
  {
   "cell_type": "code",
   "execution_count": 23,
   "metadata": {},
   "outputs": [],
   "source": [
    "def generate_sequence(input_ids: List[int], attention_mask: List[int], max_sequence_length: int = 1000,\n",
    "                      eos_token_id: int = eos_token_id, dynamic_shapes: bool = False) -> List[int]:\n",
    "    \"\"\"\n",
    "    text prediction cycle.\n",
    "\n",
    "    Parameters:\n",
    "      input_ids: tokenized input ids for model\n",
    "      attention_mask: attention mask for model\n",
    "      max_sequence_length: maximum sequence length for stop iteration\n",
    "      eos_token_id: end of sequence index from vocab\n",
    "      dynamic_shapes: use dynamic shapes for inference or pad model input to max_sequece_length\n",
    "    Returns:\n",
    "      predicted token ids sequence\n",
    "    \"\"\"\n",
    "    while True:\n",
    "        cur_input_len = len(input_ids[0])\n",
    "        if not dynamic_shapes:\n",
    "            pad_len = max_sequence_length - cur_input_len\n",
    "            model_input_ids = np.concatenate((input_ids, [[eos_token_id] * pad_len]), axis=-1)\n",
    "            model_input_attention_mask = np.concatenate((attention_mask, [[0] * pad_len]), axis=-1)\n",
    "        else:\n",
    "            model_input_ids = input_ids\n",
    "            model_input_attention_mask = attention_mask\n",
    "        outputs = compiled_model({\"input_ids\": model_input_ids, \"attention_mask\": model_input_attention_mask})[output_key]\n",
    "        next_token_logits = outputs[:, cur_input_len - 1, :]\n",
    "        # pre-process distribution\n",
    "        next_token_scores = process_logits(cur_input_len,\n",
    "                                           next_token_logits, eos_token_id)\n",
    "        top_k = 20\n",
    "        next_token_scores = get_top_k_logits(next_token_scores, top_k)\n",
    "        # get next token id\n",
    "        probs = softmax(next_token_scores)\n",
    "        next_tokens = np.random.choice(probs.shape[-1], 1,\n",
    "                                       p=probs[0], replace=True)\n",
    "        # break the loop if max length or end of text token is reached\n",
    "        # print(next_tokens[0])\n",
    "        # print(cur_input_len,max_sequence_length)\n",
    "        if cur_input_len == max_sequence_length or next_tokens[0] == eos_token_id:\n",
    "            break\n",
    "        else:\n",
    "            input_ids = np.concatenate((input_ids, [next_tokens]), axis=-1)\n",
    "            attention_mask = np.concatenate((attention_mask, [[1] * len(next_tokens)]), axis=-1)\n",
    "    return input_ids"
   ]
  },
  {
   "attachments": {},
   "cell_type": "markdown",
   "metadata": {},
   "source": [
    "## Converse Function\n",
    "Wrapper on generate sequence function to support conversation"
   ]
  },
  {
   "cell_type": "code",
   "execution_count": null,
   "metadata": {},
   "outputs": [],
   "source": [
    "def converse(input: str, history: List[int], eos_token: str = eos_token,\n",
    "             eos_token_id: int = eos_token_id) -> Tuple[str, List[int]]:\n",
    "    \"\"\"\n",
    "    Converse with the Model.\n",
    "\n",
    "    Parameters:\n",
    "      input: Text input given by the User\n",
    "      history: Chat History, ids of tokens of chat occured so far\n",
    "      eos_token: end of sequence string\n",
    "      eos_token_id: end of sequence index from vocab\n",
    "    Returns:\n",
    "      response: Text Response generated by the model\n",
    "      history: Chat History, Ids of the tokens of chat occured so far,including the tokens of generated response\n",
    "    \"\"\"\n",
    "\n",
    "    print(\"Person:\", input)\n",
    "\n",
    "    # Get Input Ids of the User Input\n",
    "    new_user_input_ids, _ = tokenize(input + eos_token)\n",
    "\n",
    "    # append the new user input tokens to the chat history, if history exists\n",
    "    if len(history) == 0:\n",
    "        bot_input_ids = new_user_input_ids\n",
    "    else:\n",
    "        bot_input_ids = np.concatenate([history, new_user_input_ids[0]])\n",
    "        bot_input_ids = np.expand_dims(bot_input_ids, axis=0)\n",
    "\n",
    "    # Create Attention Mask\n",
    "    bot_attention_mask = np.ones_like(bot_input_ids)\n",
    "\n",
    "    # Generate Response from the model\n",
    "    history = generate_sequence(bot_input_ids, bot_attention_mask)\n",
    "\n",
    "    # Add the eos_token to mark end of sequence\n",
    "    history = np.append(history[0], eos_token_id)\n",
    "\n",
    "    # convert the tokens to text, and then split the responses into lines and retrieve the response from the Model\n",
    "    response = ''.join(tokenizer.batch_decode(history)).split(eos_token)[-2]\n",
    "    return response, history"
   ]
  },
  {
   "attachments": {},
   "cell_type": "markdown",
   "metadata": {},
   "source": [
    "## Chat"
   ]
  },
  {
   "cell_type": "code",
   "execution_count": 99,
   "metadata": {},
   "outputs": [
    {
     "name": "stdout",
     "output_type": "stream",
     "text": [
      "Person: Hi, How are you?\n",
      "PersonaGPT: good how are you\n",
      "Person: I am good too! What are your hobbies?\n",
      "PersonaGPT: i like to play sports\n",
      "Person: Really! I like to play sports too. Which sport do you play?\n",
      "PersonaGPT: soccer since i'm a pro\n",
      "Person: Since when have you been playing soccer?\n",
      "PersonaGPT: since highschool now how about you\n",
      "Person: I like to play badminton\n",
      "PersonaGPT: that is cool i don't play sports\n",
      "Person: What are you doing?\n",
      "PersonaGPT: studying and eating dinner\n",
      "Person: That's nice,How?\n",
      "PersonaGPT: i work really hard to get my grades where i want them\n",
      "Person: Why do you want grades?\n",
      "PersonaGPT: for the\n",
      "Person: Do you like school?\n",
      "PersonaGPT: yeah i do but i also like to play sports\n",
      "Person: Great!\n",
      "PersonaGPT: what else do you like to do\n"
     ]
    }
   ],
   "source": [
    "# Variables for conversation\n",
    "history = []\n",
    "user_prompt = None\n",
    "pre_written_prompts = [\"Hi,How are you?\", \"What are you doing?\", \"I like to dance,do you?\", \"Can you recommend me some books?\"]\n",
    "# Number of responses generated by model\n",
    "n_prompts = 10\n",
    "for i in range(n_prompts):\n",
    "    # Uncomment for taking User Input\n",
    "    # user_prompt = input()\n",
    "    if not user_prompt:\n",
    "        user_prompt = pre_written_prompts[i % len(pre_written_prompts)]\n",
    "    response, history = converse(user_prompt, history)\n",
    "    print(\"PersonaGPT:\", response)\n",
    "    user_prompt = None"
   ]
  }
 ],
 "metadata": {
  "kernelspec": {
   "display_name": "Python 3",
   "language": "python",
   "name": "python3"
  },
  "language_info": {
   "codemirror_mode": {
    "name": "ipython",
    "version": 3
   },
   "file_extension": ".py",
   "mimetype": "text/x-python",
   "name": "python",
   "nbconvert_exporter": "python",
   "pygments_lexer": "ipython3",
   "version": "3.9.15"
  },
  "vscode": {
   "interpreter": {
    "hash": "033257a69bf603b2de0dc0c42b5465d421ac707c57e304e82520be1d43cc042f"
   }
  }
 },
 "nbformat": 4,
 "nbformat_minor": 4
}
